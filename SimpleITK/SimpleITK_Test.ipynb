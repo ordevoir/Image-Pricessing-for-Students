{
 "cells": [
  {
   "cell_type": "markdown",
   "id": "885d42ae",
   "metadata": {},
   "source": [
    "Библиотека `SimpleITK` предоставляет упрощенный интерфейс к Insight Segmentation and Registration Toolkit (ITK) – кроссплатформенной открытой библиотеке для обработки изображений в нескольких измерениях. Библиотека ITK разработана на C++, а библиотека `SimpleITK` является оберткой для Python. Существуют обертки и для других языков (R, C#, Java, Lua).\n",
    "\n",
    "Установить библиотеку `SimpleITK` можно при помощи пакетного менеджера:\n",
    "\n",
    "    pip install simpleitk"
   ]
  },
  {
   "cell_type": "code",
   "execution_count": null,
   "id": "198a36eb",
   "metadata": {
    "vscode": {
     "languageId": "plaintext"
    }
   },
   "outputs": [],
   "source": []
  }
 ],
 "metadata": {
  "kernelspec": {
   "display_name": "ml",
   "language": "python",
   "name": "python3"
  },
  "language_info": {
   "codemirror_mode": {
    "name": "ipython",
    "version": 3
   },
   "file_extension": ".py",
   "mimetype": "text/x-python",
   "name": "python",
   "nbconvert_exporter": "python",
   "pygments_lexer": "ipython3",
   "version": "3.12.7"
  }
 },
 "nbformat": 4,
 "nbformat_minor": 5
}
