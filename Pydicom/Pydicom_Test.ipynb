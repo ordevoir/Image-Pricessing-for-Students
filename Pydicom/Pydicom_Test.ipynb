{
 "cells": [
  {
   "cell_type": "markdown",
   "id": "bbda9c3d",
   "metadata": {},
   "source": [
    "# DICOM\n",
    "\n",
    "DICOM (Digital Imaging and Communications in Medicine) – это международный стандарт для работы с медицинскими изображениями и связанными с ними данными. Он обеспечивает универсальный формат хранения, обмена и управления информацией, полученной с помощью диагностического оборудования (КТ, МРТ, УЗИ, рентген и др.).\n",
    "\n",
    "Стандартное расширение для DICOM-файлов – `.dcm` (иногда используются расширения `.dicom`, `.dc3`, `.ima`). Помимо изображений, DICOM-файлы содержат метаданные и аннотации.\n",
    "\n",
    "Для просмотра файлов DICOM используются специализированные DICOM-вьюеры: RadiAnt DICOM Viewer, Horos, Weasis, OsiriX MD, Syngo.via и др. Для глубокого редактирования используются DICOM-редакторы, такие как MITK Workbench и 3D Slicer. Для исследований используются программы ImageJ, ITK-SNAP. Также используются такие программы как DICOM Anonymizer или DVTk для обезличивания данных.\n",
    "\n",
    "Помимо формата медицинских изображений, DICOM определяет стандарты для хранения и передачи файлов."
   ]
  },
  {
   "cell_type": "markdown",
   "id": "9eb37277",
   "metadata": {},
   "source": [
    "# Unique Identifier (UID)\n",
    "\n",
    "В DICOM для идентификации различных сущностей используются **уникальные идентификаторы** (*Unique Identifier* – UID). UID представляет собой строку чисел, разделенных точками, и обеспечивает глобальную уникальность каждого элемента в системе. UID состоит из двух частей: **организационный корень** (*org root*) и суффикс. Организационный корень является идентификатором организации – производителя оборудования или медицинского учреждения. Суффикс генерируется организацией для идентификации конкретных сущностей внутри своей системы.\n",
    "\n",
    "В качестве примера рассмотрим идентификатор способа кодирования данных (Transfer Syntax UID) `1.2.840.10008.1.2.1`. Организационным корнем здесь является `1.2.840.10008`. Это идентификатор организации NEMA (National Electrical Manufacturers Association). Суффикс `1.2.1` определяет конкретный класс объекта – в данном случае, хранение КТ-изображений.\n"
   ]
  },
  {
   "cell_type": "markdown",
   "id": "8f755384",
   "metadata": {},
   "source": [
    "# Структура DICOM-файла\n",
    "\n"
   ]
  },
  {
   "cell_type": "markdown",
   "id": "c020278e",
   "metadata": {},
   "source": [
    "<div style=\"text-align: center;\">\n",
    "\t<img src=\"DICOM__structure.png\" alt=\"Description\" width=\"200\">\n",
    "</div>\n",
    "\n",
    "Каждый DICOM файл начинается с 128-байтовой **преамбулы** (*preamble*), зарезервированной для совместимости с другими форматами изображений. Если преамбула не используется, то она заполняется нулями. \n",
    "\n",
    "Далее идет **префикс** (*prefix*) – 4 байта (байты 128–131), содержащие символы `DICM` в кодировке ASCII, подтверждающий, что файл соответствует стандарту DICOM.\n",
    "\n",
    "---\n",
    "\n",
    "В DICOM структура данных организована в группы элементов данных, где каждый DICOM элемент (*data element*) имеет тег вида `(GGGG, EEEE)`. Тег занимает 2 байта, и представляется в 16-ричной системе. Первый байт содержит группу DICOM элемента, а второй байт – тип элемента в группе. \n",
    "\n",
    ">Преамбула и префикс не относятся к какой либо группе, так как они находятся вне структуры DICOM-элементов и предшествуют всей DICOM-информации.\n",
    "\n",
    "После префикса идет **метаинформация файла** (*File Meta Information*) – группа 0002. Здесь располагаются метаданные, необходимые для идентификации и обработки файла. Первый элемент метаинформации содержит количество байт, занимаемых метаинформацией и занимает 12 байт (элемент с тегом `(0002,0000)`). Второй элемент `(0002,0001)` содержит версию метаинформации. \n",
    "\n",
    ">Transfer Syntax UID относится к метаинформации и имеет тег `(0002,0010)`.\n",
    "\n",
    "---\n",
    "\n",
    "Основное содержимое, включающее медицинские данные, находятся в разделе Dataset, который представляет собой последовательность DICOM элементов, каждый из которых имеет следующую структуру:\n",
    "- Tag – тег вида `(GGGG, EEEE)`. Все группы, кроме группы 0002, содержатся в Dataset.\n",
    "- Value Representation (VR) – вид данных, хранящихся в DICOM элементе. Это может быть дата и время (DT), длинный текст (LT), десятичная строка (DS), строка кода (CS), другие байты (OB) и т.д. \n",
    "- Value Length (VL) – длина значения: 16- или 32-битное беззнаковое целое число, указывающее длину поля значения.\n",
    "- Value Field (VF) – непосредственно значения: данные, такие как имя пациента, UID или пиксельные данных (Pixel Data).\n",
    "\n",
    ">Элементы данных могут быть вложенными если в VR используется вид данных последовательность элементов (*sequence of items* – SQ). Это позволяет создавать сложные структуры, например, для последовательностей других идентификаторов пациента.\n",
    "\n",
    ">Назначение тегов и соответствующих им Value Representation можно посмотреть в [этом списке](https://www.dicomlibrary.com/dicom/dicom-tags/).\n",
    "\n",
    ">Пиксельные данные (*pixel data*) имеют тег `(7FE0,0010)`."
   ]
  },
  {
   "cell_type": "markdown",
   "id": "be696351",
   "metadata": {},
   "source": [
    "## Модальность \n",
    "\n",
    "Важной характеристикой DICOM-файлов является **модальность** (*modality*) – тип медицинского исследования или оборудование, с помощью которого получены данные. Она указывает на технологию визуализации (например, КТ, МРТ, рентген) и помогает классифицировать изображения для правильной интерпретации. Модальность хранится в теге `(0008,0060)` в виде значения типа Code String (CS) и состоит из 2–5 символов в верхнем регистре.\n",
    "\n",
    "Основные типы модальностей:\n",
    "\n",
    "| Значение | Расшифровка             | Пример использования         |\n",
    "|----------|-------------------------|-------------------------------|\n",
    "| **CT**   | Компьютерная томография | Сканирование органов грудной клетки. |\n",
    "| **MR**   | Магнитно-резонансная томография | Исследование мозга или суставов. |\n",
    "| **US**   | Ультразвук              | УЗИ брюшной полости или плода. |\n",
    "| **CR**   | Компьютерная радиография | Рентген костей или легких. |\n",
    "| **DX** / **DR**  | Цифровая радиография | Рентген костей или легких.    |\n",
    "| **MG**   | Маммография             | Обследование молочных желез.  |\n",
    "| **PT**   | Позитронно-эмиссионная томография | Онкологические исследования. |\n",
    "| **XA**   | Рентгеноскопия         | Видеозапись движений органов (например, сердца). |\n",
    "\n",
    "\n",
    ">Встречаются нестандартные значения (например, **OT** — Other), но они редко используются."
   ]
  },
  {
   "cell_type": "markdown",
   "id": "a8647763",
   "metadata": {},
   "source": [
    "## Service-Object Pair (SOP)\n",
    "\n",
    "Service-Object Pair (SOP) представляет собой пару: \n",
    "- **определение информационного объекта** (*Information Object Definition* – IOD) – структурированное описание медицинского объекта (КТ-изображение, отчёт или список процедур).\n",
    "- **сервисные элементы DICOM** (*DICOM Message Service Elements* – DIMSE) – набор операций, которые можно выполнять с объектом, например, хранение, запрос, передача и другие.\n",
    "\n",
    "Комбинация IOD и DIMSE формирует **SOP Class**, и каждый файл DICOM представляет собой экземпляр (**SOP Instance**) определенного класса. Каждый **SOP Class** имеет уникальный UID. Каждый экземпляр класса также имеет свой UID. Эти идентификаторы записаны в метаинформации файла с тегами `(0002,0002)` и `(0002,0003)` соответственно."
   ]
  },
  {
   "cell_type": "markdown",
   "id": "08271a08",
   "metadata": {},
   "source": [
    "# Ресурсы\n",
    "\n",
    "[DICOM Library](https://www.dicomlibrary.com/)\n",
    "\n",
    "[The Cancer Imaging Archive (TCIA)](https://www.cancerimagingarchive.net/)\n",
    "\n",
    "[MAGNETOM World - DICOM Images](https://www.magnetomworld.siemens-healthineers.com/clinical-corner/protocols/dicom-images)\n",
    "\n",
    "[Orthanc DICOM server](https://www.orthanc-server.com/)\n",
    "\n",
    "При поиске источников следует уточнить:\n",
    "- Какие модальности интересуют: КТ, МРТ, маммография, рентген, УЗИ?\n",
    "- Предпочтения по доступу: свободный доступ, через API, Kaggle, GitHub, TCIA?\n",
    "- Есть ли интерес к конкретным патологиям (напр. COVID-19, рак, травмы)?"
   ]
  },
  {
   "cell_type": "markdown",
   "id": "b1fa5d4d",
   "metadata": {},
   "source": [
    "# Pydicom\n",
    "\n",
    "Библиотека Pydicom для языка программирования Python позволяет работать с файлами DICOM: производить чтение, редактирование и анализ медицинских изображений и связанных с ними метаданных. Это одна из самых популярных библиотек в медицинской информатике и научных проектах, связанных с обработкой медицинских изображений.\n",
    "\n",
    "Установить Pydicom можно пакетным менеджером `pip`:\n",
    "\n",
    "    pip install pydicom"
   ]
  },
  {
   "cell_type": "markdown",
   "id": "463c7d84",
   "metadata": {},
   "source": [
    "# Загрузка данных из репозитория\n",
    "\n",
    "Воспользуемся [репозиторием](https://github.com/robyoung/dicom-test-files/tree/master/data/pydicom) из GitHub для получения DICOM файла. "
   ]
  },
  {
   "cell_type": "code",
   "execution_count": 2,
   "id": "95e95526",
   "metadata": {},
   "outputs": [
    {
     "data": {
      "text/plain": [
       "(requests.models.Response, <Response [200]>)"
      ]
     },
     "execution_count": 2,
     "metadata": {},
     "output_type": "execute_result"
    }
   ],
   "source": [
    "import requests\n",
    "\n",
    "repo_url = \"https://github.com/robyoung/dicom-test-files/raw/refs/heads/master/data/pydicom/\"\n",
    "file_name = \"RG1_J2KI.dcm\"\n",
    "\n",
    "url = repo_url + file_name\n",
    "response = requests.get(url, stream=True)\n",
    "response.raise_for_status()\n",
    "\n",
    "type(response), response"
   ]
  },
  {
   "cell_type": "markdown",
   "id": "cc995000",
   "metadata": {},
   "source": [
    "## Чтение файла из потока"
   ]
  },
  {
   "cell_type": "code",
   "execution_count": 3,
   "id": "32fd1159",
   "metadata": {},
   "outputs": [
    {
     "data": {
      "text/plain": [
       "pydicom.dataset.FileDataset"
      ]
     },
     "execution_count": 3,
     "metadata": {},
     "output_type": "execute_result"
    }
   ],
   "source": [
    "import io\n",
    "import pydicom\n",
    "\n",
    "ds = pydicom.dcmread(io.BytesIO(response.content))\n",
    "type(ds)"
   ]
  },
  {
   "cell_type": "markdown",
   "id": "229abccb",
   "metadata": {},
   "source": [
    "## Сохранения файла на локальный диск"
   ]
  },
  {
   "cell_type": "code",
   "execution_count": 5,
   "id": "d600488d",
   "metadata": {},
   "outputs": [],
   "source": [
    "with open(file_name, \"wb\") as f:\n",
    "    for chunk in response.iter_content(chunk_size=8192):\n",
    "        if chunk:\n",
    "            f.write(chunk)"
   ]
  },
  {
   "cell_type": "markdown",
   "id": "a95e1bef",
   "metadata": {},
   "source": [
    "## Чтение файла с диска"
   ]
  },
  {
   "cell_type": "code",
   "execution_count": 6,
   "id": "e77fb20d",
   "metadata": {},
   "outputs": [
    {
     "data": {
      "text/plain": [
       "pydicom.dataset.FileDataset"
      ]
     },
     "execution_count": 6,
     "metadata": {},
     "output_type": "execute_result"
    }
   ],
   "source": [
    "import pydicom\n",
    "\n",
    "ds = pydicom.dcmread(file_name)\n",
    "type(ds)"
   ]
  },
  {
   "cell_type": "code",
   "execution_count": 7,
   "id": "24251bce",
   "metadata": {},
   "outputs": [],
   "source": [
    "ds.save_as(\"modified.dcm\")"
   ]
  },
  {
   "cell_type": "markdown",
   "id": "eaf5eaa3",
   "metadata": {},
   "source": [
    "# Работа с файлом DICOM"
   ]
  },
  {
   "cell_type": "code",
   "execution_count": null,
   "id": "e697be19",
   "metadata": {},
   "outputs": [],
   "source": []
  },
  {
   "cell_type": "markdown",
   "id": "bc0d0113",
   "metadata": {},
   "source": [
    "Есть также возможность создавать объекты класса `DataElement` и добавлять их в данные, при помощи метода `add_new()`."
   ]
  },
  {
   "cell_type": "markdown",
   "id": "3c272cb9",
   "metadata": {},
   "source": [
    "# Работа с пиксельными данными"
   ]
  },
  {
   "cell_type": "code",
   "execution_count": null,
   "id": "933136a9",
   "metadata": {},
   "outputs": [],
   "source": []
  }
 ],
 "metadata": {
  "kernelspec": {
   "display_name": "ml",
   "language": "python",
   "name": "python3"
  },
  "language_info": {
   "codemirror_mode": {
    "name": "ipython",
    "version": 3
   },
   "file_extension": ".py",
   "mimetype": "text/x-python",
   "name": "python",
   "nbconvert_exporter": "python",
   "pygments_lexer": "ipython3",
   "version": "3.11.9"
  }
 },
 "nbformat": 4,
 "nbformat_minor": 5
}
