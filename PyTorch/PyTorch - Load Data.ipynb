{
  "cells": [
    {
      "cell_type": "markdown",
      "metadata": {},
      "source": [
        "\n",
        "Для работы с данными PyTorch располагает двумя примитивами: `Dataset` хранит образцы и соответствующие им метки; `DataLoader` является оберткой, позволяющей производить итерационные манипуляции, такие как выборка партий, перемешивание и параллельную загрузку данных."
      ]
    },
    {
      "cell_type": "markdown",
      "metadata": {
        "id": "JQVIwsRVcxcq"
      },
      "source": [
        "\n",
        "# Download Data\n",
        "\n",
        "PyTorch предлагает специализированные библиотеки, которые включают датасеты: [TorchText](https://pytorch.org/text/stable/index.html), [TorchVision](https://pytorch.org/vision/stable/index.html) и [TorchAudio](https://pytorch.org/audio/stable/index.html).\n",
        "\n",
        "Загрузим Fashion MNIST из TorchVision. Модуль `torchvision.datasets` содержит объекты класса `Dataset` для большинства популярных данных с изображениями, такие как CIFAR, COCO и [другие](https://pytorch.org/vision/stable/datasets.html)."
      ]
    },
    {
      "cell_type": "code",
      "execution_count": 23,
      "metadata": {
        "id": "Td8-yRpYcxcs"
      },
      "outputs": [],
      "source": [
        "import torch\n",
        "from torchvision import datasets\n",
        "from torchvision.transforms import ToTensor"
      ]
    },
    {
      "cell_type": "markdown",
      "metadata": {
        "id": "fcYW3I_4cxcu"
      },
      "source": [
        "В аргументе `root` указывается директория, в которую будут загружены данные. В аргумент `transform` передается объект класса `ToTensor`, который произведет преобразование исходных изображений (в формате [PIL](https://pillow.readthedocs.io/en/stable/)) в `FloatTensor`. В поле `train` определяется тренировочный или тестовый датасет."
      ]
    },
    {
      "cell_type": "code",
      "execution_count": 31,
      "metadata": {
        "id": "pIaWXaE7cxcw"
      },
      "outputs": [],
      "source": [
        "# Download training data from open datasets.\n",
        "train_data = datasets.FashionMNIST(\n",
        "    root=\"data\",\n",
        "    train=True,\n",
        "    download=True,\n",
        "    transform=ToTensor(),\n",
        ")\n",
        "\n",
        "# Download test data from open datasets.\n",
        "test_data = datasets.FashionMNIST(\n",
        "    root=\"data\",\n",
        "    train=False,\n",
        "    download=True,\n",
        "    transform=ToTensor(),\n",
        ")"
      ]
    },
    {
      "cell_type": "markdown",
      "metadata": {
        "id": "pSgcHVaEcxcx"
      },
      "source": [
        ">Все датасеты TorchVision имеют также аргумент `target_transform` для модификации меток. Этот параметр принимает функцию, в которой реализована логика преобразования. Несколько наиболее часто используемых преобразователей представлены в модуле [torchvision.transforms](https://pytorch.org/vision/stable/transforms.html). Пример использования lambda функции для one-hot encoding [здесь](https://pytorch.org/tutorials/beginner/basics/transforms_tutorial.html#transforms). Способы преобразования и аугментации изображений описаны [здесь](https://pytorch.org/vision/stable/transforms.html)."
      ]
    },
    {
      "cell_type": "markdown",
      "metadata": {},
      "source": [
        "Переменные `train_data` и `test_data` содержат объекты класса `FashionMNIST`. Они позволяют получить доступ к загруженным данным. Сами данные хранятся в директории, указанной в `root`. Класс `FashionMNIST` наследуется от базового класса `Dataset`.\n",
        "\n",
        "\n",
        "Для собственных данных можно [создать пользовательский класс](https://pytorch.org/tutorials/beginner/basics/data_tutorial.html#creating-a-custom-dataset-for-your-files) на базе `Dataset`."
      ]
    },
    {
      "cell_type": "code",
      "execution_count": null,
      "metadata": {},
      "outputs": [
        {
          "data": {
            "text/plain": [
              "(torchvision.datasets.mnist.FashionMNIST,\n",
              " torchvision.datasets.mnist.MNIST,\n",
              " torchvision.datasets.vision.VisionDataset,\n",
              " torch.utils.data.dataset.Dataset,\n",
              " typing.Generic,\n",
              " object)"
            ]
          },
          "execution_count": 29,
          "metadata": {},
          "output_type": "execute_result"
        }
      ],
      "source": [
        "datasets.FashionMNIST.__mro__   # цепочка наследования"
      ]
    },
    {
      "cell_type": "code",
      "execution_count": 48,
      "metadata": {},
      "outputs": [
        {
          "data": {
            "text/plain": [
              "Dataset FashionMNIST\n",
              "    Number of datapoints: 60000\n",
              "    Root location: data\n",
              "    Split: Train\n",
              "    StandardTransform\n",
              "Transform: ToTensor()"
            ]
          },
          "execution_count": 48,
          "metadata": {},
          "output_type": "execute_result"
        }
      ],
      "source": [
        "train_data  # метаданные "
      ]
    },
    {
      "cell_type": "markdown",
      "metadata": {},
      "source": [
        "Функция `len()` вернет количество образцов в датасете:"
      ]
    },
    {
      "cell_type": "code",
      "execution_count": 66,
      "metadata": {},
      "outputs": [
        {
          "data": {
            "text/plain": [
              "(60000, 10000)"
            ]
          },
          "execution_count": 66,
          "metadata": {},
          "output_type": "execute_result"
        }
      ],
      "source": [
        "len(train_data), len(test_data)"
      ]
    },
    {
      "cell_type": "code",
      "execution_count": null,
      "metadata": {},
      "outputs": [
        {
          "data": {
            "text/plain": [
              "['T-shirt/top',\n",
              " 'Trouser',\n",
              " 'Pullover',\n",
              " 'Dress',\n",
              " 'Coat',\n",
              " 'Sandal',\n",
              " 'Shirt',\n",
              " 'Sneaker',\n",
              " 'Bag',\n",
              " 'Ankle boot']"
            ]
          },
          "execution_count": 70,
          "metadata": {},
          "output_type": "execute_result"
        }
      ],
      "source": [
        "test_data.classes   # список названий классов"
      ]
    },
    {
      "cell_type": "markdown",
      "metadata": {},
      "source": [
        "# Load Data"
      ]
    },
    {
      "cell_type": "markdown",
      "metadata": {},
      "source": [
        "## Lazy Loading\n",
        "\n",
        "При обращении к конкретному элементу объекта класса `Dataset` производится загрузка образца в программу, т.е. используется **ленивая загрузка** (*lazy loading*) – загрузка образца в ОЗУ производится при первом обращении к нему. Изображение можно визуализировать функцией `plt.imshow()`.\n",
        "\n",
        ">метод `squeeze()` объекта класса `torch.Tensor()` удаляет все оси тензора, размер которых равен 1. "
      ]
    },
    {
      "cell_type": "code",
      "execution_count": 51,
      "metadata": {},
      "outputs": [
        {
          "name": "stdout",
          "output_type": "stream",
          "text": [
            "<class 'torch.Tensor'> <class 'int'>\n"
          ]
        },
        {
          "data": {
            "text/plain": [
              "(-0.5, 27.5, 27.5, -0.5)"
            ]
          },
          "execution_count": 51,
          "metadata": {},
          "output_type": "execute_result"
        },
        {
          "data": {
            "image/png": "[encoded data removed]",
            "text/plain": [
              "<Figure size 100x100 with 1 Axes>"
            ]
          },
          "metadata": {},
          "output_type": "display_data"
        }
      ],
      "source": [
        "import matplotlib.pyplot as plt\n",
        "\n",
        "img, label = train_data[1]  # получение первого элемента из train_data\n",
        "\n",
        "print(type(img), type(label))\n",
        "\n",
        "plt.figure(figsize=(1, 1))  # создание фигуры для отображения\n",
        "plt.imshow(img.squeeze(), cmap=\"gray\")  # отображение изображения\n",
        "plt.axis(\"off\")  # отключение осей"
      ]
    },
    {
      "cell_type": "markdown",
      "metadata": {},
      "source": [
        "Получить доступ ко всему набору разом можно обратившись к полю `data` объекта класса `Dataset`. При этом произойдет загрузка всего набора данных в ОЗУ. Доступ к соотетствующим меткам можно получить в поле `targets`."
      ]
    },
    {
      "cell_type": "code",
      "execution_count": 87,
      "metadata": {},
      "outputs": [],
      "source": [
        "# test_data.data\n",
        "# test_data.targets"
      ]
    },
    {
      "cell_type": "markdown",
      "metadata": {},
      "source": [
        "## `DataLoader`\n",
        "\n",
        "Для загрузки образцов в программу партиями используется класс `DataLoader`. Передадим `train_data` и `test_data` в конструктор класса `DataLoader`. Таким образом, мы создадим итерируемую обертку над данными. Также в конструктор передадим размер партии (`batch_size`) и если нужно перетасовать данные, установим `shuffle=True`. На этом этапе данные еще не загружаются в ОЗУ. \n",
        "\n",
        "Загрузка данных в ОЗУ осуществляется при итерировании объекта класса `DataLoader`. Здесь также используется ленивая загрузка, поэтому на каждой итерации загружается только одна партия из `batch_size` образцов и их меток. Причем загрузка может производиться в фоновом процессе, если `num_workers > 0`.\n",
        "\n",
        ">Так как объект класса `DataLoader` является итерируемым, можно получить из него итератор (функцией `iter()`) и итерировать его при помощи функций `next()` и `iter()`."
      ]
    },
    {
      "cell_type": "code",
      "execution_count": null,
      "metadata": {
        "id": "RWyfgQescxcz",
        "outputId": "fafe2407-abe7-47e7-db0a-3fcc429004e1"
      },
      "outputs": [
        {
          "name": "stdout",
          "output_type": "stream",
          "text": [
            "Shape of X [N, C, H, W]: torch.Size([64, 1, 28, 28])\n",
            "Shape of y: torch.Size([64]) torch.int64\n"
          ]
        }
      ],
      "source": [
        "from torch.utils.data import DataLoader\n",
        "\n",
        "batch_size = 64\n",
        "\n",
        "# Create data loaders.\n",
        "train_dataloader = DataLoader(train_data,\n",
        "                              batch_size=batch_size,\n",
        "                              num_workers=1,\n",
        "                              shuffle=True,\n",
        "                              )\n",
        "test_dataloader = DataLoader(test_data, batch_size=batch_size)\n",
        "\n",
        "# Iterate and print the shape of the data.\n",
        "for X, y in test_dataloader:\n",
        "    print(f\"Shape of X [N, C, H, W]: {X.shape}\")\n",
        "    print(f\"Shape of y: {y.shape} {y.dtype}\")\n",
        "    break"
      ]
    },
    {
      "cell_type": "markdown",
      "metadata": {},
      "source": [
        "- `N` – число образцов\n",
        "- `C` – количество каналов\n",
        "- `H` – высота изображений\n",
        "- `W` – ширина изображений"
      ]
    },
    {
      "cell_type": "code",
      "execution_count": 73,
      "metadata": {},
      "outputs": [
        {
          "data": {
            "text/plain": [
              "torch.utils.data.dataloader.DataLoader"
            ]
          },
          "execution_count": 73,
          "metadata": {},
          "output_type": "execute_result"
        }
      ],
      "source": [
        "type(train_dataloader)"
      ]
    },
    {
      "cell_type": "markdown",
      "metadata": {},
      "source": [
        "В поле `dataset` объекта класса `DataLoader` содержится ссылка на исходный датасет (объект класса `Dataset`), по которому создавалась обертка:"
      ]
    },
    {
      "cell_type": "code",
      "execution_count": 74,
      "metadata": {},
      "outputs": [
        {
          "data": {
            "text/plain": [
              "True"
            ]
          },
          "execution_count": 74,
          "metadata": {},
          "output_type": "execute_result"
        }
      ],
      "source": [
        "train_dataloader.dataset is train_data"
      ]
    },
    {
      "cell_type": "markdown",
      "metadata": {
        "id": "0SOee5HGcxc3"
      },
      "source": [
        "Подробнее о данных в PyTorch можно почитать [здесь](https://pytorch.org/docs/stable/data.html)."
      ]
    }
  ],
  "metadata": {
    "colab": {
      "provenance": [],
      "toc_visible": true
    },
    "kernelspec": {
      "display_name": "zoo",
      "language": "python",
      "name": "python3"
    },
    "language_info": {
      "codemirror_mode": {
        "name": "ipython",
        "version": 3
      },
      "file_extension": ".py",
      "mimetype": "text/x-python",
      "name": "python",
      "nbconvert_exporter": "python",
      "pygments_lexer": "ipython3",
      "version": "3.11.9"
    }
  },
  "nbformat": 4,
  "nbformat_minor": 0
}
